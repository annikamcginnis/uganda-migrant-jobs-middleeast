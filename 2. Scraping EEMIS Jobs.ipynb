{
 "cells": [
  {
   "cell_type": "code",
   "execution_count": 1,
   "id": "c14f51b8-b78b-40e5-849e-31d061b5fc52",
   "metadata": {},
   "outputs": [],
   "source": [
    "from bs4 import BeautifulSoup\n"
   ]
  },
  {
   "cell_type": "code",
   "execution_count": 2,
   "id": "9acc5b6a-8cab-457b-bc48-e5ceed63cae6",
   "metadata": {},
   "outputs": [],
   "source": [
    "from playwright.async_api import async_playwright"
   ]
  },
  {
   "cell_type": "code",
   "execution_count": 3,
   "id": "8d23a43a-3a95-478e-8c51-88ec413d4a19",
   "metadata": {},
   "outputs": [],
   "source": [
    "playwright = await async_playwright().start()\n",
    "browser = await playwright.chromium.launch(headless=False)"
   ]
  },
  {
   "cell_type": "code",
   "execution_count": 4,
   "id": "a4677323-e7db-4311-95ec-88f875d296c3",
   "metadata": {},
   "outputs": [],
   "source": [
    "page = await browser.new_page()"
   ]
  },
  {
   "cell_type": "code",
   "execution_count": 5,
   "id": "644b5a5c-16ca-4c41-894f-360fb95cac19",
   "metadata": {},
   "outputs": [
    {
     "data": {
      "text/plain": [
       "<Response url='https://eemis.mglsd.go.ug/jobs' request=<Request url='https://eemis.mglsd.go.ug/jobs' method='GET'>>"
      ]
     },
     "execution_count": 5,
     "metadata": {},
     "output_type": "execute_result"
    }
   ],
   "source": [
    "await page.goto(\"https://eemis.mglsd.go.ug/jobs\")"
   ]
  },
  {
   "cell_type": "code",
   "execution_count": 6,
   "id": "93783856-f8c0-42c5-a733-770173e85359",
   "metadata": {},
   "outputs": [],
   "source": [
    "#await page.locator('.load-more').click()"
   ]
  },
  {
   "cell_type": "code",
   "execution_count": 7,
   "id": "9d89362f-51a3-4eb8-9038-0996cece744e",
   "metadata": {},
   "outputs": [
    {
     "name": "stdout",
     "output_type": "stream",
     "text": [
      "Clicked 'Load More' button.\n",
      "Clicked 'Load More' button.\n",
      "Clicked 'Load More' button.\n",
      "Clicked 'Load More' button.\n",
      "No more 'Load More' button or an error occurred: Locator.click: Timeout 30000ms exceeded.\n",
      "Call log:\n",
      "waiting for locator(\".load-more\")\n",
      "\n"
     ]
    }
   ],
   "source": [
    "while True:\n",
    "    try:\n",
    "        await page.locator('.load-more').click()\n",
    "        print(\"Clicked 'Load More' button.\")\n",
    "        await page.wait_for_timeout(20000)  \n",
    "    except Exception as e:\n",
    "        print(\"No more 'Load More' button or an error occurred:\", e)\n",
    "        break"
   ]
  },
  {
   "cell_type": "code",
   "execution_count": 8,
   "id": "faea4834-d8b6-4c56-afba-5631d206cb5f",
   "metadata": {},
   "outputs": [],
   "source": [
    "html = await page.content()"
   ]
  },
  {
   "cell_type": "code",
   "execution_count": 9,
   "id": "4fd8ea04-5d0d-477f-bfc1-d36a6098e478",
   "metadata": {},
   "outputs": [],
   "source": [
    "soup_doc = BeautifulSoup(html)\n",
    "#print(soup_doc.prettify())"
   ]
  },
  {
   "cell_type": "code",
   "execution_count": 10,
   "id": "09a39b79-5573-4c5a-84fe-0208864330cb",
   "metadata": {},
   "outputs": [],
   "source": [
    "all_jobs_html = soup_doc.find_all('li')[6:-5]\n",
    "#all_jobs_html"
   ]
  },
  {
   "cell_type": "code",
   "execution_count": 11,
   "id": "4afc9cae-8789-4a3e-a2ea-d1d4c57a3641",
   "metadata": {},
   "outputs": [
    {
     "data": {
      "text/plain": [
       "[{'job_name_jobs_list': 'HOUSEMAIDS',\n",
       "  'job_company_jobs_list': 'HAM PROPERTY SERVICES AND MANAGEMENT LTD',\n",
       "  'job_page_link': './jobs?id=6615',\n",
       "  'jobs_country_jobs_list': 'Uganda',\n",
       "  'posted_date': 'Posted : 02 Jan, 2025',\n",
       "  'deadline': 'Deadline : 29 Jan, 2025',\n",
       "  'job_salary_jobs_list': 'SAR 900'},\n",
       " {'job_name_jobs_list': 'housemaid',\n",
       "  'job_company_jobs_list': 'INTERNATIONAL EMPLOYMENT LINKAGES (U) LTD',\n",
       "  'job_page_link': './jobs?id=6614',\n",
       "  'jobs_country_jobs_list': 'Uganda',\n",
       "  'posted_date': 'Posted : 02 Jan, 2025',\n",
       "  'deadline': 'Deadline : 29 Jan, 2025',\n",
       "  'job_salary_jobs_list': 'SAR 900'},\n",
       " {'job_name_jobs_list': 'Sales',\n",
       "  'job_company_jobs_list': 'MALISU APOLLO INVESTMENTS LTD',\n",
       "  'job_page_link': './jobs?id=6613',\n",
       "  'jobs_country_jobs_list': 'Uganda',\n",
       "  'posted_date': 'Posted : 03 Jan, 2025',\n",
       "  'deadline': 'Deadline : 26 Jan, 2025',\n",
       "  'job_salary_jobs_list': 'AED 1200'},\n",
       " {'job_name_jobs_list': 'HOUSEMAIDS',\n",
       "  'job_company_jobs_list': 'Peak Labour Giants Limited',\n",
       "  'job_page_link': './jobs?id=6612',\n",
       "  'jobs_country_jobs_list': 'Uganda',\n",
       "  'posted_date': 'Posted : 02 Jan, 2025',\n",
       "  'deadline': 'Deadline : 18 Jan, 2025',\n",
       "  'job_salary_jobs_list': 'SAR 900'},\n",
       " {'job_name_jobs_list': 'HOUSEMAID',\n",
       "  'job_company_jobs_list': 'DERM LOGISTICS UG LTD',\n",
       "  'job_page_link': './jobs?id=6611',\n",
       "  'jobs_country_jobs_list': 'Uganda',\n",
       "  'posted_date': 'Posted : 02 Jan, 2025',\n",
       "  'deadline': 'Deadline : 31 May, 2025',\n",
       "  'job_salary_jobs_list': 'SAR 900'}]"
      ]
     },
     "execution_count": 11,
     "metadata": {},
     "output_type": "execute_result"
    }
   ],
   "source": [
    "jobs_page_list = []\n",
    "\n",
    "for job in all_jobs_html:\n",
    "    job_dict = {}\n",
    "    #print(job.find('a').text)\n",
    "    job_name = job.find('a').text\n",
    "    job_dict['job_name_jobs_list'] = job_name\n",
    "    #print(job.find('p').text)\n",
    "    job_company = job.find('p').text\n",
    "    job_dict['job_company_jobs_list'] = job_company\n",
    "    #print(job.find('a')['href'])\n",
    "    job_page_link = job.find('a')['href']\n",
    "    job_dict['job_page_link'] = job_page_link\n",
    "    #print(job.find('i').next)\n",
    "    jobs_list_country = job.find('i').next\n",
    "    job_dict['jobs_country_jobs_list'] = jobs_list_country\n",
    "    #print(job.find(class_='fa fa-calendar').next)\n",
    "    posted_date = job.find(class_='fa fa-calendar').next\n",
    "    job_dict['posted_date'] = posted_date\n",
    "    #print(job.find_all('i')[2].next)\n",
    "    deadline = job.find_all('i')[2].next\n",
    "    job_dict['deadline'] = deadline\n",
    "    #print(job.find(class_='fa fa-money').next)\n",
    "    salary = job.find(class_='fa fa-money').next\n",
    "    job_dict['job_salary_jobs_list'] = salary\n",
    "    jobs_page_list.append(job_dict)\n",
    "\n",
    "jobs_page_list[0:5]"
   ]
  },
  {
   "cell_type": "markdown",
   "id": "0cca7b25-b21c-47e4-af12-ef6185a7a516",
   "metadata": {},
   "source": [
    "## Scraping one job page"
   ]
  },
  {
   "cell_type": "code",
   "execution_count": 12,
   "id": "ba886d5b-c130-4267-b189-76894bf8b938",
   "metadata": {},
   "outputs": [
    {
     "data": {
      "text/plain": [
       "'/jobs?id=6615'"
      ]
     },
     "execution_count": 12,
     "metadata": {},
     "output_type": "execute_result"
    }
   ],
   "source": [
    "import re \n",
    "\n",
    "jobs_page_list[0]['job_page_link'].split('.')[-1]"
   ]
  },
  {
   "cell_type": "code",
   "execution_count": 13,
   "id": "b5638fba-86c6-4dde-a3fa-23296935beac",
   "metadata": {},
   "outputs": [],
   "source": [
    "import requests\n",
    "\n",
    "html = requests.get(\"https://eemis.mglsd.go.ug/jobs?id=6570\").content"
   ]
  },
  {
   "cell_type": "code",
   "execution_count": 14,
   "id": "355ffabf-cf6c-4bfe-b115-eb372089dcce",
   "metadata": {},
   "outputs": [],
   "source": [
    "soup_try = BeautifulSoup(html, \"html.parser\")"
   ]
  },
  {
   "cell_type": "code",
   "execution_count": 15,
   "id": "2f53a938-3a27-4756-8422-c6ddcda185e0",
   "metadata": {},
   "outputs": [
    {
     "data": {
      "text/plain": [
       "'Static Guard/Security'"
      ]
     },
     "execution_count": 15,
     "metadata": {},
     "output_type": "execute_result"
    }
   ],
   "source": [
    "soup_try.find(class_=\"text-col\").find('h2').find('a').text"
   ]
  },
  {
   "cell_type": "code",
   "execution_count": 16,
   "id": "ae47d6f1-5f59-473f-be32-40e29ac389bd",
   "metadata": {},
   "outputs": [
    {
     "data": {
      "text/plain": [
       "'Enjaazi Limited'"
      ]
     },
     "execution_count": 16,
     "metadata": {},
     "output_type": "execute_result"
    }
   ],
   "source": [
    "soup_try.find(class_=\"text-col\").find('p').text"
   ]
  },
  {
   "cell_type": "code",
   "execution_count": 17,
   "id": "e9846199-72b4-4382-a184-77bd6e9fef4f",
   "metadata": {},
   "outputs": [
    {
     "data": {
      "text/plain": [
       "'Iraq'"
      ]
     },
     "execution_count": 17,
     "metadata": {},
     "output_type": "execute_result"
    }
   ],
   "source": [
    "soup_try.find(class_=\"text-col\").find('i').next"
   ]
  },
  {
   "cell_type": "code",
   "execution_count": 18,
   "id": "73d1b8c2-b739-4b81-b4eb-f776c96ae8dd",
   "metadata": {},
   "outputs": [
    {
     "data": {
      "text/plain": [
       "'Dec 06, 2024 - Dec 06, 2025 '"
      ]
     },
     "execution_count": 18,
     "metadata": {},
     "output_type": "execute_result"
    }
   ],
   "source": [
    "soup_try.find(class_=\"text-col\").find(class_=\"fa fa-calendar\").next"
   ]
  },
  {
   "cell_type": "code",
   "execution_count": 19,
   "id": "d67a2b31-ab17-41ff-8ebe-b53452d6336e",
   "metadata": {},
   "outputs": [
    {
     "data": {
      "text/plain": [
       "'USD 1350'"
      ]
     },
     "execution_count": 19,
     "metadata": {},
     "output_type": "execute_result"
    }
   ],
   "source": [
    "soup_try.find(class_=\"text-col\").find(class_=\"fa fa-money\").next"
   ]
  },
  {
   "cell_type": "code",
   "execution_count": 20,
   "id": "4aaac250-dd5b-4cac-93e0-4bdd01c6cb25",
   "metadata": {},
   "outputs": [
    {
     "data": {
      "text/plain": [
       "'Security'"
      ]
     },
     "execution_count": 20,
     "metadata": {},
     "output_type": "execute_result"
    }
   ],
   "source": [
    "soup_try.find(class_=\"clearfix\").find('a').text"
   ]
  },
  {
   "cell_type": "code",
   "execution_count": 21,
   "id": "c3a29014-af23-40f9-8f85-d0bfd7502846",
   "metadata": {},
   "outputs": [
    {
     "data": {
      "text/plain": [
       "'We are looking for dedicated and professional security guards to join our team in protecting key international diplomatic locations. The ideal candidate will have prior military experience, particularly with the UPDF, private security, and be ready to undergo thorough vetting by foreign governments'"
      ]
     },
     "execution_count": 21,
     "metadata": {},
     "output_type": "execute_result"
    }
   ],
   "source": [
    "soup_try.find('h4').next_sibling"
   ]
  },
  {
   "cell_type": "code",
   "execution_count": 22,
   "id": "c08434f4-7b74-42bb-9af0-4489ad9d38bb",
   "metadata": {},
   "outputs": [
    {
     "data": {
      "text/plain": [
       "'We are looking for dedicated and professional security guards to join our team in protecting key international diplomatic locations. The ideal candidate will have prior military experience, particularly with the UPDF, private security, and be ready to undergo thorough vetting by foreign governments\\t\\t\\t\\t\\t\\t'"
      ]
     },
     "execution_count": 22,
     "metadata": {},
     "output_type": "execute_result"
    }
   ],
   "source": [
    "soup_try.find_all('h4')[1].next_sibling"
   ]
  },
  {
   "cell_type": "code",
   "execution_count": 23,
   "id": "3972bfef-e933-4bb1-84ef-c9690244728a",
   "metadata": {},
   "outputs": [
    {
     "data": {
      "text/plain": [
       "'06 December, 2024'"
      ]
     },
     "execution_count": 23,
     "metadata": {},
     "output_type": "execute_result"
    }
   ],
   "source": [
    "soup_try.find(class_=\"sidebar\").find(class_=\"text-box\").find_all('p')[0].text"
   ]
  },
  {
   "cell_type": "code",
   "execution_count": 24,
   "id": "2397ce1f-1f16-46a0-bd93-db1f9a26e45b",
   "metadata": {},
   "outputs": [
    {
     "data": {
      "text/plain": [
       "'+256-707-681801'"
      ]
     },
     "execution_count": 24,
     "metadata": {},
     "output_type": "execute_result"
    }
   ],
   "source": [
    "soup_try.find(class_=\"sidebar\").find(class_=\"text-box\").find_all('p')[1].text"
   ]
  },
  {
   "cell_type": "code",
   "execution_count": 25,
   "id": "2962cfc9-6942-4cf7-8cba-5712570dc576",
   "metadata": {},
   "outputs": [
    {
     "data": {
      "text/plain": [
       "['P O Box  5328,',\n",
       " 'Plot 2, Fr Seryazi Nicholas Close, Makindye,',\n",
       " 'Kampala,',\n",
       " 'Uganda.']"
      ]
     },
     "execution_count": 25,
     "metadata": {},
     "output_type": "execute_result"
    }
   ],
   "source": [
    "address = soup_try.find(class_=\"sidebar\").find(class_=\"text-box\").find_all('p')[2:]\n",
    "\n",
    "one_address_list = []\n",
    "\n",
    "for line in address:\n",
    "    #print(line.text)\n",
    "    one_address_list.append(line.text)\n",
    "\n",
    "one_address_list"
   ]
  },
  {
   "cell_type": "markdown",
   "id": "e2bfd32b-3913-461a-95e5-91e39c3bdaa4",
   "metadata": {},
   "source": [
    "## Scraping all job pages"
   ]
  },
  {
   "cell_type": "code",
   "execution_count": 26,
   "id": "6901f17c-1f7c-4719-8562-70b4fa591b44",
   "metadata": {},
   "outputs": [
    {
     "name": "stdout",
     "output_type": "stream",
     "text": [
      "ERROR\n",
      "https://eemis.mglsd.go.ug/jobs?id=6615\n",
      "ERROR\n",
      "https://eemis.mglsd.go.ug/jobs?id=6614\n",
      "ERROR\n",
      "https://eemis.mglsd.go.ug/jobs?id=6613\n",
      "ERROR\n",
      "https://eemis.mglsd.go.ug/jobs?id=6612\n",
      "ERROR\n",
      "https://eemis.mglsd.go.ug/jobs?id=6611\n",
      "ERROR\n",
      "https://eemis.mglsd.go.ug/jobs?id=6608\n",
      "ERROR\n",
      "https://eemis.mglsd.go.ug/jobs?id=6607\n",
      "ERROR\n",
      "https://eemis.mglsd.go.ug/jobs?id=6606\n",
      "ERROR\n",
      "https://eemis.mglsd.go.ug/jobs?id=6601\n",
      "ERROR\n",
      "https://eemis.mglsd.go.ug/jobs?id=6600\n",
      "ERROR\n",
      "https://eemis.mglsd.go.ug/jobs?id=6593\n",
      "ERROR\n",
      "https://eemis.mglsd.go.ug/jobs?id=6592\n",
      "ERROR\n",
      "https://eemis.mglsd.go.ug/jobs?id=6591\n",
      "ERROR\n",
      "https://eemis.mglsd.go.ug/jobs?id=6589\n",
      "ERROR\n",
      "https://eemis.mglsd.go.ug/jobs?id=6588\n",
      "ERROR\n",
      "https://eemis.mglsd.go.ug/jobs?id=6587\n",
      "ERROR\n",
      "https://eemis.mglsd.go.ug/jobs?id=6586\n",
      "ERROR\n",
      "https://eemis.mglsd.go.ug/jobs?id=6585\n",
      "ERROR\n",
      "https://eemis.mglsd.go.ug/jobs?id=6583\n",
      "ERROR\n",
      "https://eemis.mglsd.go.ug/jobs?id=6548\n",
      "ERROR\n",
      "https://eemis.mglsd.go.ug/jobs?id=6540\n",
      "ERROR\n",
      "https://eemis.mglsd.go.ug/jobs?id=6535\n",
      "ERROR\n",
      "https://eemis.mglsd.go.ug/jobs?id=6530\n",
      "ERROR\n",
      "https://eemis.mglsd.go.ug/jobs?id=6526\n",
      "ERROR\n",
      "https://eemis.mglsd.go.ug/jobs?id=6477\n",
      "ERROR\n",
      "https://eemis.mglsd.go.ug/jobs?id=6476\n",
      "ERROR\n",
      "https://eemis.mglsd.go.ug/jobs?id=6466\n",
      "ERROR\n",
      "https://eemis.mglsd.go.ug/jobs?id=6454\n",
      "ERROR\n",
      "https://eemis.mglsd.go.ug/jobs?id=6139\n",
      "ERROR\n",
      "https://eemis.mglsd.go.ug/jobs?id=6052\n",
      "ERROR\n",
      "https://eemis.mglsd.go.ug/jobs?id=5841\n",
      "ERROR\n",
      "https://eemis.mglsd.go.ug/jobs?id=4101\n"
     ]
    },
    {
     "data": {
      "text/plain": [
       "[{'job_name_jobs_list': 'HOUSEMAIDS',\n",
       "  'job_company_jobs_list': 'HAM PROPERTY SERVICES AND MANAGEMENT LTD',\n",
       "  'job_page_link': './jobs?id=6615',\n",
       "  'jobs_country_jobs_list': 'Uganda',\n",
       "  'posted_date': 'Posted : 02 Jan, 2025',\n",
       "  'deadline': 'Deadline : 29 Jan, 2025',\n",
       "  'job_salary_jobs_list': 'SAR 900',\n",
       "  'job_page_full_url': 'https://eemis.mglsd.go.ug/jobs?id=6615',\n",
       "  'job_name_job_page': 'HOUSEMAIDS',\n",
       "  'company_name_job_page': 'HAM PROPERTY SERVICES AND MANAGEMENT LTD',\n",
       "  'job_country_job_page': 'Saudi Arabia',\n",
       "  'job_time_job_page': 'Jan 02, 2025 - Jan 02, 2027 ',\n",
       "  'job_salary_job_page': 'SAR 900',\n",
       "  'job_category': 'Domestic Worker',\n",
       "  'job_overview': 'HOUSEMAIDS',\n",
       "  'job_description_details': 'HOUSEMAIDS\\t\\t\\t\\t\\t\\t',\n",
       "  'company_reg_date': '11 December, 2024',\n",
       "  'company_phone': '+256-414-252490'},\n",
       " {'job_name_jobs_list': 'housemaid',\n",
       "  'job_company_jobs_list': 'INTERNATIONAL EMPLOYMENT LINKAGES (U) LTD',\n",
       "  'job_page_link': './jobs?id=6614',\n",
       "  'jobs_country_jobs_list': 'Uganda',\n",
       "  'posted_date': 'Posted : 02 Jan, 2025',\n",
       "  'deadline': 'Deadline : 29 Jan, 2025',\n",
       "  'job_salary_jobs_list': 'SAR 900',\n",
       "  'job_page_full_url': 'https://eemis.mglsd.go.ug/jobs?id=6614',\n",
       "  'job_name_job_page': 'housemaid',\n",
       "  'company_name_job_page': 'INTERNATIONAL EMPLOYMENT LINKAGES (U) LTD',\n",
       "  'job_country_job_page': 'Saudi Arabia',\n",
       "  'job_time_job_page': 'Jan 02, 2025 - Jan 02, 2027 ',\n",
       "  'job_salary_job_page': 'SAR 900',\n",
       "  'job_category': 'Domestic Worker',\n",
       "  'job_overview': 'Housemaid where her capacity of cleaning, washing, cooking and taking care of children and aged people to be provided  to client.',\n",
       "  'job_description_details': 'Housemaid where her capacity of cleaning, washing, cooking and taking care of children and aged people to be provided  to client.',\n",
       "  'company_reg_date': '28 February, 2024',\n",
       "  'company_phone': '+256-414-581258'},\n",
       " {'job_name_jobs_list': 'Sales',\n",
       "  'job_company_jobs_list': 'MALISU APOLLO INVESTMENTS LTD',\n",
       "  'job_page_link': './jobs?id=6613',\n",
       "  'jobs_country_jobs_list': 'Uganda',\n",
       "  'posted_date': 'Posted : 03 Jan, 2025',\n",
       "  'deadline': 'Deadline : 26 Jan, 2025',\n",
       "  'job_salary_jobs_list': 'AED 1200',\n",
       "  'job_page_full_url': 'https://eemis.mglsd.go.ug/jobs?id=6613',\n",
       "  'job_name_job_page': 'Sales',\n",
       "  'company_name_job_page': 'MALISU APOLLO INVESTMENTS LTD',\n",
       "  'job_country_job_page': 'United Arab Emirates',\n",
       "  'job_time_job_page': 'Jan 03, 2025 - Jan 03, 2027 ',\n",
       "  'job_salary_job_page': 'AED 1200',\n",
       "  'job_category': 'Sales/Business Development',\n",
       "  'job_overview': 'The sales personnel will be responsible for Answering client questions about credit terms, products, prices, availability and Preparing and submitting sales contracts for orders and Visiting clients and potential clients to evaluate needs or promote products and services.',\n",
       "  'job_description_details': 'The sales personnel will be responsible for Answering client questions about credit terms, products, prices, availability and Preparing and submitting sales contracts for orders and Visiting clients and potential clients to evaluate needs or promote products and services.',\n",
       "  'company_reg_date': '14 March, 2024',\n",
       "  'company_phone': '+256-773-001186'},\n",
       " {'job_name_jobs_list': 'HOUSEMAIDS',\n",
       "  'job_company_jobs_list': 'Peak Labour Giants Limited',\n",
       "  'job_page_link': './jobs?id=6612',\n",
       "  'jobs_country_jobs_list': 'Uganda',\n",
       "  'posted_date': 'Posted : 02 Jan, 2025',\n",
       "  'deadline': 'Deadline : 18 Jan, 2025',\n",
       "  'job_salary_jobs_list': 'SAR 900',\n",
       "  'job_page_full_url': 'https://eemis.mglsd.go.ug/jobs?id=6612',\n",
       "  'job_name_job_page': 'HOUSEMAIDS',\n",
       "  'company_name_job_page': 'Peak Labour Giants Limited',\n",
       "  'job_country_job_page': 'Saudi Arabia',\n",
       "  'job_time_job_page': 'Jan 02, 2025 - Jan 02, 2027 ',\n",
       "  'job_salary_job_page': 'SAR 900',\n",
       "  'job_category': 'Domestic Worker',\n",
       "  'job_overview': 'House maids needed in Saudi Arabia to work for a contract period of 2 years.',\n",
       "  'job_description_details': 'House maids needed in Saudi Arabia to work for a contract period of 2 years.\\t\\t\\t\\t\\t\\t',\n",
       "  'company_reg_date': '17 May, 2024',\n",
       "  'company_phone': '+256-701-588214'},\n",
       " {'job_name_jobs_list': 'HOUSEMAID',\n",
       "  'job_company_jobs_list': 'DERM LOGISTICS UG LTD',\n",
       "  'job_page_link': './jobs?id=6611',\n",
       "  'jobs_country_jobs_list': 'Uganda',\n",
       "  'posted_date': 'Posted : 02 Jan, 2025',\n",
       "  'deadline': 'Deadline : 31 May, 2025',\n",
       "  'job_salary_jobs_list': 'SAR 900',\n",
       "  'job_page_full_url': 'https://eemis.mglsd.go.ug/jobs?id=6611',\n",
       "  'job_name_job_page': 'HOUSEMAID',\n",
       "  'company_name_job_page': 'DERM LOGISTICS UG LTD',\n",
       "  'job_country_job_page': 'Saudi Arabia',\n",
       "  'job_time_job_page': 'Jan 02, 2025 - Jan 02, 2027 ',\n",
       "  'job_salary_job_page': 'SAR 900',\n",
       "  'job_category': 'Domestic Worker',\n",
       "  'job_overview': 'This Job exists to assist households in carrying out domestic work such as general cleaning, cooking, babysitting, ironing, washing, elderly care disabled care, and any other assigned duties within the confines of the home.',\n",
       "  'job_description_details': 'This Job exists to assist households in carrying out domestic work such as general cleaning, cooking, babysitting, ironing, washing, elderly care disabled care, and any other assigned duties within the confines of the home.\\t\\t\\t\\t\\t\\t',\n",
       "  'company_reg_date': '17 May, 2024',\n",
       "  'company_phone': '+256-772-403006'}]"
      ]
     },
     "execution_count": 26,
     "metadata": {},
     "output_type": "execute_result"
    }
   ],
   "source": [
    "import time\n",
    "\n",
    "for job in jobs_page_list:\n",
    "    time.sleep(2)\n",
    "    url_end = job['job_page_link'].split('.')[-1]\n",
    "    url = \"https://eemis.mglsd.go.ug\" + url_end\n",
    "    job['job_page_full_url'] = url\n",
    "    #print(url)\n",
    "    try: \n",
    "        html = requests.get(url).content\n",
    "        soup_doc = BeautifulSoup(html, \"html.parser\")\n",
    "        job_title = soup_doc.find(class_=\"text-col\").find('h2').find('a').text\n",
    "        job['job_name_job_page'] = job_title\n",
    "        company_name = soup_doc.find(class_=\"text-col\").find('p').text\n",
    "        job['company_name_job_page'] = company_name\n",
    "        job_country = soup_doc.find(class_=\"text-col\").find('i').next\n",
    "        job['job_country_job_page'] = job_country\n",
    "        job_time = soup_doc.find(class_=\"text-col\").find(class_=\"fa fa-calendar\").next\n",
    "        job['job_time_job_page'] = job_time\n",
    "        job_salary = soup_doc.find(class_=\"text-col\").find(class_=\"fa fa-money\").next\n",
    "        job['job_salary_job_page'] = job_salary\n",
    "        job_category = soup_doc.find(class_=\"clearfix\").find('a').text\n",
    "        job['job_category'] = job_category\n",
    "        job_overview = soup_doc.find('h4').next_sibling\n",
    "        job['job_overview'] = job_overview\n",
    "        job_description_details = soup_doc.find_all('h4')[1].next_sibling\n",
    "        job['job_description_details'] = job_description_details\n",
    "        company_reg_date = soup_doc.find(class_=\"sidebar\").find(class_=\"text-box\").find_all('p')[0].text\n",
    "        job['company_reg_date'] = company_reg_date\n",
    "        company_phone = soup_doc.find(class_=\"sidebar\").find(class_=\"text-box\").find_all('p')[1].text\n",
    "        job['company_phone'] = company_phone\n",
    "        company_address = soup_doc.find(class_=\"sidebar\").find(class_=\"text-box\").find_all('p')[2:]\n",
    "        single_address_list = []\n",
    "        for line in address:\n",
    "            single_address_list.append(line.text)\n",
    "        job['company_address']\n",
    "    except:\n",
    "        print(\"ERROR\")\n",
    "        print(url)\n",
    "\n",
    "jobs_page_list[0:5]"
   ]
  },
  {
   "cell_type": "code",
   "execution_count": 27,
   "id": "45e56404-f218-4dce-b347-0bccbafc6eca",
   "metadata": {
    "scrolled": true
   },
   "outputs": [
    {
     "data": {
      "text/plain": [
       "32"
      ]
     },
     "execution_count": 27,
     "metadata": {},
     "output_type": "execute_result"
    }
   ],
   "source": [
    "len(jobs_page_list)"
   ]
  },
  {
   "cell_type": "code",
   "execution_count": 28,
   "id": "a71b5028-6f11-477d-9ee1-2f56d83c6a1d",
   "metadata": {},
   "outputs": [
    {
     "data": {
      "text/html": [
       "<div>\n",
       "<style scoped>\n",
       "    .dataframe tbody tr th:only-of-type {\n",
       "        vertical-align: middle;\n",
       "    }\n",
       "\n",
       "    .dataframe tbody tr th {\n",
       "        vertical-align: top;\n",
       "    }\n",
       "\n",
       "    .dataframe thead th {\n",
       "        text-align: right;\n",
       "    }\n",
       "</style>\n",
       "<table border=\"1\" class=\"dataframe\">\n",
       "  <thead>\n",
       "    <tr style=\"text-align: right;\">\n",
       "      <th></th>\n",
       "      <th>job_name_jobs_list</th>\n",
       "      <th>job_company_jobs_list</th>\n",
       "      <th>job_page_link</th>\n",
       "      <th>jobs_country_jobs_list</th>\n",
       "      <th>posted_date</th>\n",
       "      <th>deadline</th>\n",
       "      <th>job_salary_jobs_list</th>\n",
       "      <th>job_page_full_url</th>\n",
       "      <th>job_name_job_page</th>\n",
       "      <th>company_name_job_page</th>\n",
       "      <th>job_country_job_page</th>\n",
       "      <th>job_time_job_page</th>\n",
       "      <th>job_salary_job_page</th>\n",
       "      <th>job_category</th>\n",
       "      <th>job_overview</th>\n",
       "      <th>job_description_details</th>\n",
       "      <th>company_reg_date</th>\n",
       "      <th>company_phone</th>\n",
       "    </tr>\n",
       "  </thead>\n",
       "  <tbody>\n",
       "    <tr>\n",
       "      <th>0</th>\n",
       "      <td>HOUSEMAIDS</td>\n",
       "      <td>HAM PROPERTY SERVICES AND MANAGEMENT LTD</td>\n",
       "      <td>./jobs?id=6615</td>\n",
       "      <td>Uganda</td>\n",
       "      <td>Posted : 02 Jan, 2025</td>\n",
       "      <td>Deadline : 29 Jan, 2025</td>\n",
       "      <td>SAR 900</td>\n",
       "      <td>https://eemis.mglsd.go.ug/jobs?id=6615</td>\n",
       "      <td>HOUSEMAIDS</td>\n",
       "      <td>HAM PROPERTY SERVICES AND MANAGEMENT LTD</td>\n",
       "      <td>Saudi Arabia</td>\n",
       "      <td>Jan 02, 2025 - Jan 02, 2027</td>\n",
       "      <td>SAR 900</td>\n",
       "      <td>Domestic Worker</td>\n",
       "      <td>HOUSEMAIDS</td>\n",
       "      <td>HOUSEMAIDS\\t\\t\\t\\t\\t\\t</td>\n",
       "      <td>11 December, 2024</td>\n",
       "      <td>+256-414-252490</td>\n",
       "    </tr>\n",
       "    <tr>\n",
       "      <th>1</th>\n",
       "      <td>housemaid</td>\n",
       "      <td>INTERNATIONAL EMPLOYMENT LINKAGES (U) LTD</td>\n",
       "      <td>./jobs?id=6614</td>\n",
       "      <td>Uganda</td>\n",
       "      <td>Posted : 02 Jan, 2025</td>\n",
       "      <td>Deadline : 29 Jan, 2025</td>\n",
       "      <td>SAR 900</td>\n",
       "      <td>https://eemis.mglsd.go.ug/jobs?id=6614</td>\n",
       "      <td>housemaid</td>\n",
       "      <td>INTERNATIONAL EMPLOYMENT LINKAGES (U) LTD</td>\n",
       "      <td>Saudi Arabia</td>\n",
       "      <td>Jan 02, 2025 - Jan 02, 2027</td>\n",
       "      <td>SAR 900</td>\n",
       "      <td>Domestic Worker</td>\n",
       "      <td>Housemaid where her capacity of cleaning, wash...</td>\n",
       "      <td>Housemaid where her capacity of cleaning, wash...</td>\n",
       "      <td>28 February, 2024</td>\n",
       "      <td>+256-414-581258</td>\n",
       "    </tr>\n",
       "    <tr>\n",
       "      <th>2</th>\n",
       "      <td>Sales</td>\n",
       "      <td>MALISU APOLLO INVESTMENTS LTD</td>\n",
       "      <td>./jobs?id=6613</td>\n",
       "      <td>Uganda</td>\n",
       "      <td>Posted : 03 Jan, 2025</td>\n",
       "      <td>Deadline : 26 Jan, 2025</td>\n",
       "      <td>AED 1200</td>\n",
       "      <td>https://eemis.mglsd.go.ug/jobs?id=6613</td>\n",
       "      <td>Sales</td>\n",
       "      <td>MALISU APOLLO INVESTMENTS LTD</td>\n",
       "      <td>United Arab Emirates</td>\n",
       "      <td>Jan 03, 2025 - Jan 03, 2027</td>\n",
       "      <td>AED 1200</td>\n",
       "      <td>Sales/Business Development</td>\n",
       "      <td>The sales personnel will be responsible for An...</td>\n",
       "      <td>The sales personnel will be responsible for An...</td>\n",
       "      <td>14 March, 2024</td>\n",
       "      <td>+256-773-001186</td>\n",
       "    </tr>\n",
       "    <tr>\n",
       "      <th>3</th>\n",
       "      <td>HOUSEMAIDS</td>\n",
       "      <td>Peak Labour Giants Limited</td>\n",
       "      <td>./jobs?id=6612</td>\n",
       "      <td>Uganda</td>\n",
       "      <td>Posted : 02 Jan, 2025</td>\n",
       "      <td>Deadline : 18 Jan, 2025</td>\n",
       "      <td>SAR 900</td>\n",
       "      <td>https://eemis.mglsd.go.ug/jobs?id=6612</td>\n",
       "      <td>HOUSEMAIDS</td>\n",
       "      <td>Peak Labour Giants Limited</td>\n",
       "      <td>Saudi Arabia</td>\n",
       "      <td>Jan 02, 2025 - Jan 02, 2027</td>\n",
       "      <td>SAR 900</td>\n",
       "      <td>Domestic Worker</td>\n",
       "      <td>House maids needed in Saudi Arabia to work for...</td>\n",
       "      <td>House maids needed in Saudi Arabia to work for...</td>\n",
       "      <td>17 May, 2024</td>\n",
       "      <td>+256-701-588214</td>\n",
       "    </tr>\n",
       "    <tr>\n",
       "      <th>4</th>\n",
       "      <td>HOUSEMAID</td>\n",
       "      <td>DERM LOGISTICS UG LTD</td>\n",
       "      <td>./jobs?id=6611</td>\n",
       "      <td>Uganda</td>\n",
       "      <td>Posted : 02 Jan, 2025</td>\n",
       "      <td>Deadline : 31 May, 2025</td>\n",
       "      <td>SAR 900</td>\n",
       "      <td>https://eemis.mglsd.go.ug/jobs?id=6611</td>\n",
       "      <td>HOUSEMAID</td>\n",
       "      <td>DERM LOGISTICS UG LTD</td>\n",
       "      <td>Saudi Arabia</td>\n",
       "      <td>Jan 02, 2025 - Jan 02, 2027</td>\n",
       "      <td>SAR 900</td>\n",
       "      <td>Domestic Worker</td>\n",
       "      <td>This Job exists to assist households in carryi...</td>\n",
       "      <td>This Job exists to assist households in carryi...</td>\n",
       "      <td>17 May, 2024</td>\n",
       "      <td>+256-772-403006</td>\n",
       "    </tr>\n",
       "  </tbody>\n",
       "</table>\n",
       "</div>"
      ],
      "text/plain": [
       "  job_name_jobs_list                      job_company_jobs_list  \\\n",
       "0         HOUSEMAIDS   HAM PROPERTY SERVICES AND MANAGEMENT LTD   \n",
       "1          housemaid  INTERNATIONAL EMPLOYMENT LINKAGES (U) LTD   \n",
       "2              Sales              MALISU APOLLO INVESTMENTS LTD   \n",
       "3         HOUSEMAIDS                 Peak Labour Giants Limited   \n",
       "4          HOUSEMAID                      DERM LOGISTICS UG LTD   \n",
       "\n",
       "    job_page_link jobs_country_jobs_list            posted_date  \\\n",
       "0  ./jobs?id=6615                 Uganda  Posted : 02 Jan, 2025   \n",
       "1  ./jobs?id=6614                 Uganda  Posted : 02 Jan, 2025   \n",
       "2  ./jobs?id=6613                 Uganda  Posted : 03 Jan, 2025   \n",
       "3  ./jobs?id=6612                 Uganda  Posted : 02 Jan, 2025   \n",
       "4  ./jobs?id=6611                 Uganda  Posted : 02 Jan, 2025   \n",
       "\n",
       "                  deadline job_salary_jobs_list  \\\n",
       "0  Deadline : 29 Jan, 2025              SAR 900   \n",
       "1  Deadline : 29 Jan, 2025              SAR 900   \n",
       "2  Deadline : 26 Jan, 2025             AED 1200   \n",
       "3  Deadline : 18 Jan, 2025              SAR 900   \n",
       "4  Deadline : 31 May, 2025              SAR 900   \n",
       "\n",
       "                        job_page_full_url job_name_job_page  \\\n",
       "0  https://eemis.mglsd.go.ug/jobs?id=6615        HOUSEMAIDS   \n",
       "1  https://eemis.mglsd.go.ug/jobs?id=6614         housemaid   \n",
       "2  https://eemis.mglsd.go.ug/jobs?id=6613             Sales   \n",
       "3  https://eemis.mglsd.go.ug/jobs?id=6612        HOUSEMAIDS   \n",
       "4  https://eemis.mglsd.go.ug/jobs?id=6611         HOUSEMAID   \n",
       "\n",
       "                       company_name_job_page  job_country_job_page  \\\n",
       "0   HAM PROPERTY SERVICES AND MANAGEMENT LTD          Saudi Arabia   \n",
       "1  INTERNATIONAL EMPLOYMENT LINKAGES (U) LTD          Saudi Arabia   \n",
       "2              MALISU APOLLO INVESTMENTS LTD  United Arab Emirates   \n",
       "3                 Peak Labour Giants Limited          Saudi Arabia   \n",
       "4                      DERM LOGISTICS UG LTD          Saudi Arabia   \n",
       "\n",
       "              job_time_job_page job_salary_job_page  \\\n",
       "0  Jan 02, 2025 - Jan 02, 2027              SAR 900   \n",
       "1  Jan 02, 2025 - Jan 02, 2027              SAR 900   \n",
       "2  Jan 03, 2025 - Jan 03, 2027             AED 1200   \n",
       "3  Jan 02, 2025 - Jan 02, 2027              SAR 900   \n",
       "4  Jan 02, 2025 - Jan 02, 2027              SAR 900   \n",
       "\n",
       "                 job_category  \\\n",
       "0             Domestic Worker   \n",
       "1             Domestic Worker   \n",
       "2  Sales/Business Development   \n",
       "3             Domestic Worker   \n",
       "4             Domestic Worker   \n",
       "\n",
       "                                        job_overview  \\\n",
       "0                                         HOUSEMAIDS   \n",
       "1  Housemaid where her capacity of cleaning, wash...   \n",
       "2  The sales personnel will be responsible for An...   \n",
       "3  House maids needed in Saudi Arabia to work for...   \n",
       "4  This Job exists to assist households in carryi...   \n",
       "\n",
       "                             job_description_details   company_reg_date  \\\n",
       "0                             HOUSEMAIDS\\t\\t\\t\\t\\t\\t  11 December, 2024   \n",
       "1  Housemaid where her capacity of cleaning, wash...  28 February, 2024   \n",
       "2  The sales personnel will be responsible for An...     14 March, 2024   \n",
       "3  House maids needed in Saudi Arabia to work for...       17 May, 2024   \n",
       "4  This Job exists to assist households in carryi...       17 May, 2024   \n",
       "\n",
       "     company_phone  \n",
       "0  +256-414-252490  \n",
       "1  +256-414-581258  \n",
       "2  +256-773-001186  \n",
       "3  +256-701-588214  \n",
       "4  +256-772-403006  "
      ]
     },
     "execution_count": 28,
     "metadata": {},
     "output_type": "execute_result"
    }
   ],
   "source": [
    "import pandas as pd\n",
    "\n",
    "df = pd.json_normalize(jobs_page_list)\n",
    "df.head()"
   ]
  },
  {
   "cell_type": "code",
   "execution_count": 29,
   "id": "fee30a1f-cb34-4cb5-952f-847b41edd581",
   "metadata": {},
   "outputs": [],
   "source": [
    "df.to_csv(\"jobs.csv\", index=False)"
   ]
  }
 ],
 "metadata": {
  "kernelspec": {
   "display_name": "Python 3 (ipykernel)",
   "language": "python",
   "name": "python3"
  },
  "language_info": {
   "codemirror_mode": {
    "name": "ipython",
    "version": 3
   },
   "file_extension": ".py",
   "mimetype": "text/x-python",
   "name": "python",
   "nbconvert_exporter": "python",
   "pygments_lexer": "ipython3",
   "version": "3.12.7"
  }
 },
 "nbformat": 4,
 "nbformat_minor": 5
}
