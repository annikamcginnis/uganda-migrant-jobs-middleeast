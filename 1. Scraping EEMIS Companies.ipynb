{
 "cells": [
  {
   "cell_type": "code",
   "execution_count": 1,
   "id": "4ed15f37-2963-456c-99ff-28f4dc0627d2",
   "metadata": {},
   "outputs": [],
   "source": [
    "from bs4 import BeautifulSoup\n"
   ]
  },
  {
   "cell_type": "code",
   "execution_count": 2,
   "id": "16cfaf6d-4208-495f-b338-6eef7be5c8d8",
   "metadata": {},
   "outputs": [],
   "source": [
    "from playwright.async_api import async_playwright"
   ]
  },
  {
   "cell_type": "code",
   "execution_count": 3,
   "id": "65922930-5bce-45fa-a9fe-19750ee3ef32",
   "metadata": {},
   "outputs": [],
   "source": [
    "playwright = await async_playwright().start()\n",
    "browser = await playwright.chromium.launch(headless=False)"
   ]
  },
  {
   "cell_type": "code",
   "execution_count": 4,
   "id": "8302fba3-bd2d-498a-834d-f0ee73001383",
   "metadata": {},
   "outputs": [],
   "source": [
    "page = await browser.new_page()"
   ]
  },
  {
   "cell_type": "code",
   "execution_count": 5,
   "id": "00c7d1f2-b085-4e26-9699-eecf26e92e84",
   "metadata": {},
   "outputs": [
    {
     "data": {
      "text/plain": [
       "<Response url='https://eemis.mglsd.go.ug/companies' request=<Request url='https://eemis.mglsd.go.ug/companies' method='GET'>>"
      ]
     },
     "execution_count": 5,
     "metadata": {},
     "output_type": "execute_result"
    }
   ],
   "source": [
    "await page.goto(\"https://eemis.mglsd.go.ug/companies\")"
   ]
  },
  {
   "cell_type": "code",
   "execution_count": 6,
   "id": "a60f5024-2162-4d48-b572-e7a93df2c1b0",
   "metadata": {},
   "outputs": [],
   "source": [
    "html = await page.content()"
   ]
  },
  {
   "cell_type": "code",
   "execution_count": 7,
   "id": "c88a96d4-6779-48c8-b655-a76f775d893e",
   "metadata": {},
   "outputs": [],
   "source": [
    "soup_doc = BeautifulSoup(html)"
   ]
  },
  {
   "cell_type": "code",
   "execution_count": 8,
   "id": "e7ba84e2-6497-425d-9e46-52dfb5172e5b",
   "metadata": {},
   "outputs": [],
   "source": [
    "#print(soup_doc.prettify())"
   ]
  },
  {
   "cell_type": "code",
   "execution_count": 9,
   "id": "6ad6cab1-3b27-4ca5-ac09-b41eedf7ea28",
   "metadata": {},
   "outputs": [
    {
     "name": "stdout",
     "output_type": "stream",
     "text": [
      "Clicked 'Load More' button.\n",
      "Clicked 'Load More' button.\n",
      "Clicked 'Load More' button.\n",
      "Clicked 'Load More' button.\n",
      "Clicked 'Load More' button.\n",
      "Clicked 'Load More' button.\n",
      "Clicked 'Load More' button.\n",
      "Clicked 'Load More' button.\n",
      "Clicked 'Load More' button.\n",
      "Clicked 'Load More' button.\n",
      "Clicked 'Load More' button.\n",
      "Clicked 'Load More' button.\n",
      "Clicked 'Load More' button.\n",
      "Clicked 'Load More' button.\n",
      "Clicked 'Load More' button.\n",
      "Clicked 'Load More' button.\n",
      "Clicked 'Load More' button.\n",
      "Clicked 'Load More' button.\n",
      "Clicked 'Load More' button.\n",
      "Clicked 'Load More' button.\n",
      "Clicked 'Load More' button.\n",
      "Clicked 'Load More' button.\n",
      "Clicked 'Load More' button.\n",
      "Clicked 'Load More' button.\n",
      "Clicked 'Load More' button.\n",
      "No more 'Load More' button or an error occurred: Page.wait_for_selector: Timeout 20000ms exceeded.\n",
      "Call log:\n",
      "waiting for locator(\"a.load_more_comp\") to be visible\n",
      "\n"
     ]
    }
   ],
   "source": [
    "while True:\n",
    "    try:\n",
    "        await page.wait_for_selector('a.load_more_comp', timeout=20000)\n",
    "        await page.click('a.load_more_comp')\n",
    "        print(\"Clicked 'Load More' button.\")\n",
    "        await page.wait_for_timeout(20000)\n",
    "    except Exception as e:\n",
    "        print(\"No more 'Load More' button or an error occurred:\", e)\n",
    "        break"
   ]
  },
  {
   "cell_type": "code",
   "execution_count": 10,
   "id": "c98c0935-4a29-48a9-8a68-1a150fc0b174",
   "metadata": {},
   "outputs": [],
   "source": [
    "html = await page.content()\n",
    "#html"
   ]
  },
  {
   "cell_type": "code",
   "execution_count": 11,
   "id": "7f19601c-0a5f-4a03-9631-7a01cdaefaf1",
   "metadata": {},
   "outputs": [],
   "source": [
    "soup_doc = BeautifulSoup(html)\n",
    "#print(soup_doc.prettify())"
   ]
  },
  {
   "cell_type": "code",
   "execution_count": 12,
   "id": "7b13ed2f-f177-47f7-b6c6-3933e00bab7f",
   "metadata": {},
   "outputs": [],
   "source": [
    "companies_html = soup_doc.find_all('div',class_='col-md-6')\n",
    "#companies_html"
   ]
  },
  {
   "cell_type": "code",
   "execution_count": 13,
   "id": "09dc32ed-2c34-4c86-83dc-9ef9075d7bff",
   "metadata": {},
   "outputs": [
    {
     "data": {
      "text/plain": [
       "[{'company_name': 'RIGHTFORCE MANPOWER SERVICES L.L.C',\n",
       "  'company_link': 'https://eemis.mglsd.go.ug/companies/RIGHTFORCEMANPOWERSERVICESLLC_33389286',\n",
       "  'company_location_companiespage': 'As Sulimaniyah, Riyadh 12431, Saudi Arabia',\n",
       "  'company_phone': '+971-502-258556',\n",
       "  'company_calendar': 'Jan 06, 2025 - Jan 06, 2027'},\n",
       " {'company_name': 'FIXIT MANPOWER SUPPLY L.L.C.',\n",
       "  'company_link': 'https://eemis.mglsd.go.ug/companies/FixitManpowerSupplyLLC_33332694',\n",
       "  'company_location_companiespage': 'As Sulimaniyah, Riyadh 12431, Saudi Arabia',\n",
       "  'company_phone': '+971-524-326554',\n",
       "  'company_calendar': 'Dec 12, 2024 - Dec 12, 2026'},\n",
       " {'company_name': 'B H R HUMAN RESOURCES CONSULTANCIES L.L.C',\n",
       "  'company_link': 'https://eemis.mglsd.go.ug/companies/BHRHUMANRESOURCESCONSULTANCIESLLC_33247896',\n",
       "  'company_location_companiespage': 'As Sulimaniyah, Riyadh 12431, Saudi Arabia',\n",
       "  'company_phone': '+971-585-177862',\n",
       "  'company_calendar': 'Dec 12, 2024 - Dec 12, 2026'},\n",
       " {'company_name': 'MEHAN HUMAN RESOURCES COMPANY',\n",
       "  'company_link': 'https://eemis.mglsd.go.ug/companies/MEHANHUMANRESOURCESCOMPANY_33106806',\n",
       "  'company_location_companiespage': 'Al khobar Dammam, Saudi Arabia',\n",
       "  'company_phone': '+996-539-115211',\n",
       "  'company_calendar': 'Dec 11, 2024 - Dec 11, 2026'},\n",
       " {'company_name': 'SHANKAR TRADING COMPANY LLC',\n",
       "  'company_link': 'https://eemis.mglsd.go.ug/companies/SHANKARTRADINGCOMPANYLLC_33078624',\n",
       "  'company_location_companiespage': 'As Sulimaniyah, Riyadh 12431, Saudi Arabia',\n",
       "  'company_phone': '+971-555-015120',\n",
       "  'company_calendar': 'Dec 09, 2024 - Dec 09, 2026'}]"
      ]
     },
     "execution_count": 13,
     "metadata": {},
     "output_type": "execute_result"
    }
   ],
   "source": [
    "companies_list = []\n",
    "\n",
    "for company in companies_html:\n",
    "    company_dict = {}\n",
    "    company_name = company.find('h4').text\n",
    "    company_dict['company_name'] = company_name\n",
    "    company_link = company.find('h4').find('a')['href']\n",
    "    company_dict['company_link'] = company_link\n",
    "    company_location = company.find('i',class_='fa fa-map-marker').next.text\n",
    "    company_dict['company_location_companiespage'] = company_location\n",
    "    company_phone = company.find('i',class_='fa fa-phone').next.text   \n",
    "    company_dict['company_phone'] = company_phone\n",
    "    company_calendar = company.find('i',class_='fa fa-calendar').next.text\n",
    "    company_dict['company_calendar'] = company_calendar\n",
    "    companies_list.append(company_dict)\n",
    "\n",
    "companies_list[0:5]"
   ]
  },
  {
   "cell_type": "code",
   "execution_count": 14,
   "id": "9b8e61ec-9105-4844-9781-ef86811d4d29",
   "metadata": {},
   "outputs": [],
   "source": [
    "import pandas as pd\n",
    "\n",
    "df = pd.json_normalize(companies_list)\n",
    "#df.to_csv(\"companies_list.csv\")"
   ]
  },
  {
   "cell_type": "code",
   "execution_count": 15,
   "id": "7fb9f407-9cb7-4eb1-ae76-08aeb4e4ac37",
   "metadata": {},
   "outputs": [],
   "source": [
    "import requests\n",
    "\n",
    "html = requests.get(\"https://eemis.mglsd.go.ug/companies/SAFIRALRYADAHRECRUITMENT_32994150\").content"
   ]
  },
  {
   "cell_type": "code",
   "execution_count": 16,
   "id": "472f022c-326c-4fcc-b99b-c1c92311451c",
   "metadata": {},
   "outputs": [],
   "source": [
    "soup_doc = BeautifulSoup(html, \"html.parser\")\n",
    "#print(soup_doc.prettify())"
   ]
  },
  {
   "cell_type": "code",
   "execution_count": 17,
   "id": "fe3fa279-82bc-4b0b-a64d-7fe13bc221dc",
   "metadata": {},
   "outputs": [
    {
     "name": "stdout",
     "output_type": "stream",
     "text": [
      "Licence No :\n",
      "SA24110038\n",
      "Start Date :\n",
      "30 November 2024\n",
      "Expiry Date :\n",
      "29 November 2026\n",
      "Address :\n",
      "(' P.O Box ', 'Riyadh, Saudi Arabia ')\n",
      "Phone :\n",
      " +966-533-894555 \n",
      "Email :\n",
      " safiralryadh@gmail.com \n"
     ]
    }
   ],
   "source": [
    "#getting info for one company page- testing out code\n",
    "\n",
    "logo_link = soup_doc.find('div',class_='col-md-12 col-sm-12').find('img')['src']\n",
    "company_name = soup_doc.find('div',class_='col-md-12 col-sm-12').find('div',class_='text-col').a.text\n",
    "\n",
    "page_info = soup_doc.find('div',class_='col-md-12 col-sm-12').find_all('li')\n",
    "for info in page_info:\n",
    "    key = info.strong.string\n",
    "    print(key)\n",
    "    if info.br:\n",
    "        value = info.strong.next_sibling, info.br.next\n",
    "    else:\n",
    "        value = info.strong.next_sibling\n",
    "    print(value)"
   ]
  },
  {
   "cell_type": "code",
   "execution_count": 18,
   "id": "65f410ab-e570-4e11-b604-d1cd0d3d7bae",
   "metadata": {},
   "outputs": [],
   "source": [
    "import requests\n",
    "import time\n",
    "\n",
    "for company in companies_list:\n",
    "    time.sleep(2)\n",
    "    try: \n",
    "        html = requests.get(company['company_link']).content\n",
    "        soup_doc = BeautifulSoup(html, \"html.parser\")\n",
    "\n",
    "        page_content = soup_doc.find('div',class_='col-md-12 col-sm-12')\n",
    "        #print(page_content)\n",
    "\n",
    "        logo_link = page_content.find('img')['src']\n",
    "        #print(logo_link)\n",
    "        company['logo_link'] = logo_link\n",
    "        \n",
    "        company_name_copg = page_content.find('div',class_='text-col').a.text\n",
    "        company['company_name_copg'] = company_name_copg\n",
    "        #print(company_name_copg)\n",
    "\n",
    "        page_info = soup_doc.find('div',class_='col-md-12 col-sm-12').find_all('li')\n",
    "        for info in page_info:\n",
    "            key = info.strong.string\n",
    "            #print(key)\n",
    "            if info.br:\n",
    "                value = info.strong.next_sibling, info.br.next\n",
    "            else:\n",
    "                value = info.strong.next_sibling\n",
    "            #print(value)\n",
    "            company[key] = value\n",
    "    except:\n",
    "        print(\"ERROR!\")\n",
    "    #print(company)"
   ]
  },
  {
   "cell_type": "code",
   "execution_count": 19,
   "id": "022a8389-269f-4e81-89b3-93b59c87f90c",
   "metadata": {},
   "outputs": [
    {
     "data": {
      "text/html": [
       "<div>\n",
       "<style scoped>\n",
       "    .dataframe tbody tr th:only-of-type {\n",
       "        vertical-align: middle;\n",
       "    }\n",
       "\n",
       "    .dataframe tbody tr th {\n",
       "        vertical-align: top;\n",
       "    }\n",
       "\n",
       "    .dataframe thead th {\n",
       "        text-align: right;\n",
       "    }\n",
       "</style>\n",
       "<table border=\"1\" class=\"dataframe\">\n",
       "  <thead>\n",
       "    <tr style=\"text-align: right;\">\n",
       "      <th></th>\n",
       "      <th>company_name</th>\n",
       "      <th>company_link</th>\n",
       "      <th>company_location_companiespage</th>\n",
       "      <th>company_phone</th>\n",
       "      <th>company_calendar</th>\n",
       "      <th>logo_link</th>\n",
       "      <th>company_name_copg</th>\n",
       "      <th>Licence No :</th>\n",
       "      <th>Start Date :</th>\n",
       "      <th>Expiry Date :</th>\n",
       "      <th>Address :</th>\n",
       "      <th>Phone :</th>\n",
       "      <th>Email :</th>\n",
       "    </tr>\n",
       "  </thead>\n",
       "  <tbody>\n",
       "    <tr>\n",
       "      <th>0</th>\n",
       "      <td>RIGHTFORCE MANPOWER SERVICES L.L.C</td>\n",
       "      <td>https://eemis.mglsd.go.ug/companies/RIGHTFORCE...</td>\n",
       "      <td>As Sulimaniyah, Riyadh 12431, Saudi Arabia</td>\n",
       "      <td>+971-502-258556</td>\n",
       "      <td>Jan 06, 2025 - Jan 06, 2027</td>\n",
       "      <td>https://eemis.mglsd.go.ug/assets/images/brands...</td>\n",
       "      <td>RIGHTFORCE MANPOWER SERVICES L.L.C</td>\n",
       "      <td>AE25010002</td>\n",
       "      <td>06 January 2025</td>\n",
       "      <td>06 January 2027</td>\n",
       "      <td>( P.O Box , Dubayy, United Arab Emirates )</td>\n",
       "      <td>+971-502-258556</td>\n",
       "      <td>salim@rightforcegroup.com</td>\n",
       "    </tr>\n",
       "    <tr>\n",
       "      <th>1</th>\n",
       "      <td>FIXIT MANPOWER SUPPLY L.L.C.</td>\n",
       "      <td>https://eemis.mglsd.go.ug/companies/FixitManpo...</td>\n",
       "      <td>As Sulimaniyah, Riyadh 12431, Saudi Arabia</td>\n",
       "      <td>+971-524-326554</td>\n",
       "      <td>Dec 12, 2024 - Dec 12, 2026</td>\n",
       "      <td>https://eemis.mglsd.go.ug/assets/images/brands...</td>\n",
       "      <td>FIXIT MANPOWER SUPPLY L.L.C.</td>\n",
       "      <td>AE24120014</td>\n",
       "      <td>12 December 2024</td>\n",
       "      <td>12 December 2026</td>\n",
       "      <td>( P.O Box , Dubayy, United Arab Emirates )</td>\n",
       "      <td>+971-524-326554</td>\n",
       "      <td>info@fixitmanpower.com</td>\n",
       "    </tr>\n",
       "    <tr>\n",
       "      <th>2</th>\n",
       "      <td>B H R HUMAN RESOURCES CONSULTANCIES L.L.C</td>\n",
       "      <td>https://eemis.mglsd.go.ug/companies/BHRHUMANRE...</td>\n",
       "      <td>As Sulimaniyah, Riyadh 12431, Saudi Arabia</td>\n",
       "      <td>+971-585-177862</td>\n",
       "      <td>Dec 12, 2024 - Dec 12, 2026</td>\n",
       "      <td>https://eemis.mglsd.go.ug/assets/images/brands...</td>\n",
       "      <td>B H R HUMAN RESOURCES CONSULTANCIES L.L.C</td>\n",
       "      <td>AE24120015</td>\n",
       "      <td>12 December 2024</td>\n",
       "      <td>12 December 2026</td>\n",
       "      <td>( P.O Box , Dubayy, United Arab Emirates )</td>\n",
       "      <td>+971-585-177862</td>\n",
       "      <td>kritika@bharathrgroup.com</td>\n",
       "    </tr>\n",
       "    <tr>\n",
       "      <th>3</th>\n",
       "      <td>MEHAN HUMAN RESOURCES COMPANY</td>\n",
       "      <td>https://eemis.mglsd.go.ug/companies/MEHANHUMAN...</td>\n",
       "      <td>Al khobar Dammam, Saudi Arabia</td>\n",
       "      <td>+996-539-115211</td>\n",
       "      <td>Dec 11, 2024 - Dec 11, 2026</td>\n",
       "      <td>https://eemis.mglsd.go.ug/assets/images/brands...</td>\n",
       "      <td>MEHAN HUMAN RESOURCES COMPANY</td>\n",
       "      <td>SA24120010</td>\n",
       "      <td>11 December 2024</td>\n",
       "      <td>11 December 2026</td>\n",
       "      <td>( P.O Box , Eastern Province, Saudi Arabia )</td>\n",
       "      <td>+996-539-115211</td>\n",
       "      <td>rec@mehan.sa</td>\n",
       "    </tr>\n",
       "    <tr>\n",
       "      <th>4</th>\n",
       "      <td>SHANKAR TRADING COMPANY LLC</td>\n",
       "      <td>https://eemis.mglsd.go.ug/companies/SHANKARTRA...</td>\n",
       "      <td>As Sulimaniyah, Riyadh 12431, Saudi Arabia</td>\n",
       "      <td>+971-555-015120</td>\n",
       "      <td>Dec 09, 2024 - Dec 09, 2026</td>\n",
       "      <td>https://eemis.mglsd.go.ug/assets/images/brands...</td>\n",
       "      <td>SHANKAR TRADING COMPANY LLC</td>\n",
       "      <td>AE24120009</td>\n",
       "      <td>09 December 2024</td>\n",
       "      <td>09 December 2026</td>\n",
       "      <td>( P.O Box , Dubayy, United Arab Emirates )</td>\n",
       "      <td>+971-555-015120</td>\n",
       "      <td>adronabirungi3@gmail.com</td>\n",
       "    </tr>\n",
       "  </tbody>\n",
       "</table>\n",
       "</div>"
      ],
      "text/plain": [
       "                                company_name  \\\n",
       "0         RIGHTFORCE MANPOWER SERVICES L.L.C   \n",
       "1               FIXIT MANPOWER SUPPLY L.L.C.   \n",
       "2  B H R HUMAN RESOURCES CONSULTANCIES L.L.C   \n",
       "3              MEHAN HUMAN RESOURCES COMPANY   \n",
       "4                SHANKAR TRADING COMPANY LLC   \n",
       "\n",
       "                                        company_link  \\\n",
       "0  https://eemis.mglsd.go.ug/companies/RIGHTFORCE...   \n",
       "1  https://eemis.mglsd.go.ug/companies/FixitManpo...   \n",
       "2  https://eemis.mglsd.go.ug/companies/BHRHUMANRE...   \n",
       "3  https://eemis.mglsd.go.ug/companies/MEHANHUMAN...   \n",
       "4  https://eemis.mglsd.go.ug/companies/SHANKARTRA...   \n",
       "\n",
       "               company_location_companiespage    company_phone  \\\n",
       "0  As Sulimaniyah, Riyadh 12431, Saudi Arabia  +971-502-258556   \n",
       "1  As Sulimaniyah, Riyadh 12431, Saudi Arabia  +971-524-326554   \n",
       "2  As Sulimaniyah, Riyadh 12431, Saudi Arabia  +971-585-177862   \n",
       "3              Al khobar Dammam, Saudi Arabia  +996-539-115211   \n",
       "4  As Sulimaniyah, Riyadh 12431, Saudi Arabia  +971-555-015120   \n",
       "\n",
       "              company_calendar  \\\n",
       "0  Jan 06, 2025 - Jan 06, 2027   \n",
       "1  Dec 12, 2024 - Dec 12, 2026   \n",
       "2  Dec 12, 2024 - Dec 12, 2026   \n",
       "3  Dec 11, 2024 - Dec 11, 2026   \n",
       "4  Dec 09, 2024 - Dec 09, 2026   \n",
       "\n",
       "                                           logo_link  \\\n",
       "0  https://eemis.mglsd.go.ug/assets/images/brands...   \n",
       "1  https://eemis.mglsd.go.ug/assets/images/brands...   \n",
       "2  https://eemis.mglsd.go.ug/assets/images/brands...   \n",
       "3  https://eemis.mglsd.go.ug/assets/images/brands...   \n",
       "4  https://eemis.mglsd.go.ug/assets/images/brands...   \n",
       "\n",
       "                           company_name_copg Licence No :      Start Date :  \\\n",
       "0         RIGHTFORCE MANPOWER SERVICES L.L.C   AE25010002   06 January 2025   \n",
       "1               FIXIT MANPOWER SUPPLY L.L.C.   AE24120014  12 December 2024   \n",
       "2  B H R HUMAN RESOURCES CONSULTANCIES L.L.C   AE24120015  12 December 2024   \n",
       "3              MEHAN HUMAN RESOURCES COMPANY   SA24120010  11 December 2024   \n",
       "4                SHANKAR TRADING COMPANY LLC   AE24120009  09 December 2024   \n",
       "\n",
       "      Expiry Date :                                     Address :  \\\n",
       "0   06 January 2027    ( P.O Box , Dubayy, United Arab Emirates )   \n",
       "1  12 December 2026    ( P.O Box , Dubayy, United Arab Emirates )   \n",
       "2  12 December 2026    ( P.O Box , Dubayy, United Arab Emirates )   \n",
       "3  11 December 2026  ( P.O Box , Eastern Province, Saudi Arabia )   \n",
       "4  09 December 2026    ( P.O Box , Dubayy, United Arab Emirates )   \n",
       "\n",
       "             Phone :                      Email :  \n",
       "0   +971-502-258556    salim@rightforcegroup.com   \n",
       "1   +971-524-326554       info@fixitmanpower.com   \n",
       "2   +971-585-177862    kritika@bharathrgroup.com   \n",
       "3   +996-539-115211                 rec@mehan.sa   \n",
       "4   +971-555-015120     adronabirungi3@gmail.com   "
      ]
     },
     "execution_count": 19,
     "metadata": {},
     "output_type": "execute_result"
    }
   ],
   "source": [
    "df = pd.json_normalize(companies_list)\n",
    "df.head()"
   ]
  },
  {
   "cell_type": "code",
   "execution_count": 20,
   "id": "89a130a1-d989-4d6c-a2bc-915680e21d2e",
   "metadata": {},
   "outputs": [],
   "source": [
    "df.to_csv(\"companies.csv\", index=False)"
   ]
  },
  {
   "cell_type": "code",
   "execution_count": null,
   "id": "f1879c11-fc75-411a-bc6f-f54e0fb379ff",
   "metadata": {},
   "outputs": [],
   "source": []
  }
 ],
 "metadata": {
  "kernelspec": {
   "display_name": "Python 3 (ipykernel)",
   "language": "python",
   "name": "python3"
  },
  "language_info": {
   "codemirror_mode": {
    "name": "ipython",
    "version": 3
   },
   "file_extension": ".py",
   "mimetype": "text/x-python",
   "name": "python",
   "nbconvert_exporter": "python",
   "pygments_lexer": "ipython3",
   "version": "3.12.7"
  }
 },
 "nbformat": 4,
 "nbformat_minor": 5
}
